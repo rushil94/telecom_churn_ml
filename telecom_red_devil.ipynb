{
 "cells": [
  {
   "cell_type": "code",
   "execution_count": 437,
   "metadata": {},
   "outputs": [],
   "source": [
    "%config IPCompleter.greedy = True"
   ]
  },
  {
   "cell_type": "code",
   "execution_count": 438,
   "metadata": {},
   "outputs": [],
   "source": [
    "import pandas as pd\n",
    "import numpy as np"
   ]
  },
  {
   "cell_type": "code",
   "execution_count": 439,
   "metadata": {},
   "outputs": [],
   "source": [
    "df = pd.read_csv('telecom_churn_data.csv')"
   ]
  },
  {
   "cell_type": "code",
   "execution_count": 440,
   "metadata": {},
   "outputs": [
    {
     "data": {
      "text/html": [
       "<div>\n",
       "<style scoped>\n",
       "    .dataframe tbody tr th:only-of-type {\n",
       "        vertical-align: middle;\n",
       "    }\n",
       "\n",
       "    .dataframe tbody tr th {\n",
       "        vertical-align: top;\n",
       "    }\n",
       "\n",
       "    .dataframe thead th {\n",
       "        text-align: right;\n",
       "    }\n",
       "</style>\n",
       "<table border=\"1\" class=\"dataframe\">\n",
       "  <thead>\n",
       "    <tr style=\"text-align: right;\">\n",
       "      <th></th>\n",
       "      <th>mobile_number</th>\n",
       "      <th>circle_id</th>\n",
       "      <th>loc_og_t2o_mou</th>\n",
       "      <th>std_og_t2o_mou</th>\n",
       "      <th>loc_ic_t2o_mou</th>\n",
       "      <th>last_date_of_month_6</th>\n",
       "      <th>last_date_of_month_7</th>\n",
       "      <th>last_date_of_month_8</th>\n",
       "      <th>last_date_of_month_9</th>\n",
       "      <th>arpu_6</th>\n",
       "      <th>...</th>\n",
       "      <th>sachet_3g_9</th>\n",
       "      <th>fb_user_6</th>\n",
       "      <th>fb_user_7</th>\n",
       "      <th>fb_user_8</th>\n",
       "      <th>fb_user_9</th>\n",
       "      <th>aon</th>\n",
       "      <th>aug_vbc_3g</th>\n",
       "      <th>jul_vbc_3g</th>\n",
       "      <th>jun_vbc_3g</th>\n",
       "      <th>sep_vbc_3g</th>\n",
       "    </tr>\n",
       "  </thead>\n",
       "  <tbody>\n",
       "    <tr>\n",
       "      <th>0</th>\n",
       "      <td>7000842753</td>\n",
       "      <td>109</td>\n",
       "      <td>0.0</td>\n",
       "      <td>0.0</td>\n",
       "      <td>0.0</td>\n",
       "      <td>6/30/2014</td>\n",
       "      <td>7/31/2014</td>\n",
       "      <td>8/31/2014</td>\n",
       "      <td>9/30/2014</td>\n",
       "      <td>197.385</td>\n",
       "      <td>...</td>\n",
       "      <td>0</td>\n",
       "      <td>1.0</td>\n",
       "      <td>1.0</td>\n",
       "      <td>1.0</td>\n",
       "      <td>NaN</td>\n",
       "      <td>968</td>\n",
       "      <td>30.4</td>\n",
       "      <td>0.0</td>\n",
       "      <td>101.20</td>\n",
       "      <td>3.58</td>\n",
       "    </tr>\n",
       "    <tr>\n",
       "      <th>1</th>\n",
       "      <td>7001865778</td>\n",
       "      <td>109</td>\n",
       "      <td>0.0</td>\n",
       "      <td>0.0</td>\n",
       "      <td>0.0</td>\n",
       "      <td>6/30/2014</td>\n",
       "      <td>7/31/2014</td>\n",
       "      <td>8/31/2014</td>\n",
       "      <td>9/30/2014</td>\n",
       "      <td>34.047</td>\n",
       "      <td>...</td>\n",
       "      <td>0</td>\n",
       "      <td>NaN</td>\n",
       "      <td>1.0</td>\n",
       "      <td>1.0</td>\n",
       "      <td>NaN</td>\n",
       "      <td>1006</td>\n",
       "      <td>0.0</td>\n",
       "      <td>0.0</td>\n",
       "      <td>0.00</td>\n",
       "      <td>0.00</td>\n",
       "    </tr>\n",
       "    <tr>\n",
       "      <th>2</th>\n",
       "      <td>7001625959</td>\n",
       "      <td>109</td>\n",
       "      <td>0.0</td>\n",
       "      <td>0.0</td>\n",
       "      <td>0.0</td>\n",
       "      <td>6/30/2014</td>\n",
       "      <td>7/31/2014</td>\n",
       "      <td>8/31/2014</td>\n",
       "      <td>9/30/2014</td>\n",
       "      <td>167.690</td>\n",
       "      <td>...</td>\n",
       "      <td>0</td>\n",
       "      <td>NaN</td>\n",
       "      <td>NaN</td>\n",
       "      <td>NaN</td>\n",
       "      <td>1.0</td>\n",
       "      <td>1103</td>\n",
       "      <td>0.0</td>\n",
       "      <td>0.0</td>\n",
       "      <td>4.17</td>\n",
       "      <td>0.00</td>\n",
       "    </tr>\n",
       "    <tr>\n",
       "      <th>3</th>\n",
       "      <td>7001204172</td>\n",
       "      <td>109</td>\n",
       "      <td>0.0</td>\n",
       "      <td>0.0</td>\n",
       "      <td>0.0</td>\n",
       "      <td>6/30/2014</td>\n",
       "      <td>7/31/2014</td>\n",
       "      <td>8/31/2014</td>\n",
       "      <td>9/30/2014</td>\n",
       "      <td>221.338</td>\n",
       "      <td>...</td>\n",
       "      <td>0</td>\n",
       "      <td>NaN</td>\n",
       "      <td>NaN</td>\n",
       "      <td>NaN</td>\n",
       "      <td>NaN</td>\n",
       "      <td>2491</td>\n",
       "      <td>0.0</td>\n",
       "      <td>0.0</td>\n",
       "      <td>0.00</td>\n",
       "      <td>0.00</td>\n",
       "    </tr>\n",
       "    <tr>\n",
       "      <th>4</th>\n",
       "      <td>7000142493</td>\n",
       "      <td>109</td>\n",
       "      <td>0.0</td>\n",
       "      <td>0.0</td>\n",
       "      <td>0.0</td>\n",
       "      <td>6/30/2014</td>\n",
       "      <td>7/31/2014</td>\n",
       "      <td>8/31/2014</td>\n",
       "      <td>9/30/2014</td>\n",
       "      <td>261.636</td>\n",
       "      <td>...</td>\n",
       "      <td>0</td>\n",
       "      <td>0.0</td>\n",
       "      <td>NaN</td>\n",
       "      <td>NaN</td>\n",
       "      <td>NaN</td>\n",
       "      <td>1526</td>\n",
       "      <td>0.0</td>\n",
       "      <td>0.0</td>\n",
       "      <td>0.00</td>\n",
       "      <td>0.00</td>\n",
       "    </tr>\n",
       "  </tbody>\n",
       "</table>\n",
       "<p>5 rows × 226 columns</p>\n",
       "</div>"
      ],
      "text/plain": [
       "   mobile_number  circle_id  loc_og_t2o_mou  std_og_t2o_mou  loc_ic_t2o_mou  \\\n",
       "0     7000842753        109             0.0             0.0             0.0   \n",
       "1     7001865778        109             0.0             0.0             0.0   \n",
       "2     7001625959        109             0.0             0.0             0.0   \n",
       "3     7001204172        109             0.0             0.0             0.0   \n",
       "4     7000142493        109             0.0             0.0             0.0   \n",
       "\n",
       "  last_date_of_month_6 last_date_of_month_7 last_date_of_month_8  \\\n",
       "0            6/30/2014            7/31/2014            8/31/2014   \n",
       "1            6/30/2014            7/31/2014            8/31/2014   \n",
       "2            6/30/2014            7/31/2014            8/31/2014   \n",
       "3            6/30/2014            7/31/2014            8/31/2014   \n",
       "4            6/30/2014            7/31/2014            8/31/2014   \n",
       "\n",
       "  last_date_of_month_9   arpu_6     ...      sachet_3g_9  fb_user_6  \\\n",
       "0            9/30/2014  197.385     ...                0        1.0   \n",
       "1            9/30/2014   34.047     ...                0        NaN   \n",
       "2            9/30/2014  167.690     ...                0        NaN   \n",
       "3            9/30/2014  221.338     ...                0        NaN   \n",
       "4            9/30/2014  261.636     ...                0        0.0   \n",
       "\n",
       "   fb_user_7  fb_user_8  fb_user_9   aon  aug_vbc_3g  jul_vbc_3g  jun_vbc_3g  \\\n",
       "0        1.0        1.0        NaN   968        30.4         0.0      101.20   \n",
       "1        1.0        1.0        NaN  1006         0.0         0.0        0.00   \n",
       "2        NaN        NaN        1.0  1103         0.0         0.0        4.17   \n",
       "3        NaN        NaN        NaN  2491         0.0         0.0        0.00   \n",
       "4        NaN        NaN        NaN  1526         0.0         0.0        0.00   \n",
       "\n",
       "   sep_vbc_3g  \n",
       "0        3.58  \n",
       "1        0.00  \n",
       "2        0.00  \n",
       "3        0.00  \n",
       "4        0.00  \n",
       "\n",
       "[5 rows x 226 columns]"
      ]
     },
     "execution_count": 440,
     "metadata": {},
     "output_type": "execute_result"
    }
   ],
   "source": [
    "df.head()"
   ]
  },
  {
   "cell_type": "code",
   "execution_count": 441,
   "metadata": {},
   "outputs": [
    {
     "name": "stdout",
     "output_type": "stream",
     "text": [
      "<class 'pandas.core.frame.DataFrame'>\n",
      "RangeIndex: 99999 entries, 0 to 99998\n",
      "Columns: 226 entries, mobile_number to sep_vbc_3g\n",
      "dtypes: float64(179), int64(35), object(12)\n",
      "memory usage: 172.4+ MB\n"
     ]
    }
   ],
   "source": [
    "df.info()\n"
   ]
  },
  {
   "cell_type": "code",
   "execution_count": 442,
   "metadata": {},
   "outputs": [
    {
     "data": {
      "text/plain": [
       "99999"
      ]
     },
     "execution_count": 442,
     "metadata": {},
     "output_type": "execute_result"
    }
   ],
   "source": [
    "df['mobile_number'].nunique()"
   ]
  },
  {
   "cell_type": "code",
   "execution_count": 443,
   "metadata": {},
   "outputs": [
    {
     "data": {
      "text/plain": [
       "1"
      ]
     },
     "execution_count": 443,
     "metadata": {},
     "output_type": "execute_result"
    }
   ],
   "source": [
    "df['circle_id'].nunique()"
   ]
  },
  {
   "cell_type": "code",
   "execution_count": 444,
   "metadata": {},
   "outputs": [
    {
     "data": {
      "text/plain": [
       "1"
      ]
     },
     "execution_count": 444,
     "metadata": {},
     "output_type": "execute_result"
    }
   ],
   "source": [
    "df['loc_og_t2o_mou'].nunique()"
   ]
  },
  {
   "cell_type": "code",
   "execution_count": 445,
   "metadata": {},
   "outputs": [
    {
     "data": {
      "text/plain": [
       "1"
      ]
     },
     "execution_count": 445,
     "metadata": {},
     "output_type": "execute_result"
    }
   ],
   "source": [
    "df['std_og_t2o_mou'].nunique()"
   ]
  },
  {
   "cell_type": "code",
   "execution_count": 446,
   "metadata": {
    "scrolled": true
   },
   "outputs": [
    {
     "data": {
      "text/plain": [
       "1"
      ]
     },
     "execution_count": 446,
     "metadata": {},
     "output_type": "execute_result"
    }
   ],
   "source": [
    "df['loc_ic_t2o_mou'].nunique()"
   ]
  },
  {
   "cell_type": "code",
   "execution_count": 447,
   "metadata": {},
   "outputs": [
    {
     "data": {
      "text/plain": [
       "1"
      ]
     },
     "execution_count": 447,
     "metadata": {},
     "output_type": "execute_result"
    }
   ],
   "source": [
    "df['last_date_of_month_6'].nunique()"
   ]
  },
  {
   "cell_type": "code",
   "execution_count": 448,
   "metadata": {},
   "outputs": [
    {
     "data": {
      "text/plain": [
       "1"
      ]
     },
     "execution_count": 448,
     "metadata": {},
     "output_type": "execute_result"
    }
   ],
   "source": [
    "df['last_date_of_month_7'].nunique()"
   ]
  },
  {
   "cell_type": "code",
   "execution_count": 449,
   "metadata": {},
   "outputs": [
    {
     "data": {
      "text/plain": [
       "1"
      ]
     },
     "execution_count": 449,
     "metadata": {},
     "output_type": "execute_result"
    }
   ],
   "source": [
    "df['last_date_of_month_8'].nunique()"
   ]
  },
  {
   "cell_type": "code",
   "execution_count": 450,
   "metadata": {},
   "outputs": [
    {
     "data": {
      "text/plain": [
       "1"
      ]
     },
     "execution_count": 450,
     "metadata": {},
     "output_type": "execute_result"
    }
   ],
   "source": [
    "df['last_date_of_month_9'].nunique()"
   ]
  },
  {
   "cell_type": "code",
   "execution_count": 451,
   "metadata": {},
   "outputs": [
    {
     "data": {
      "text/plain": [
       "count    99999.000000\n",
       "mean       303.345673\n",
       "std        404.588583\n",
       "min          0.000000\n",
       "25%         52.000000\n",
       "50%        200.000000\n",
       "70%        355.000000\n",
       "max      37235.000000\n",
       "Name: total_rech_amt_9, dtype: float64"
      ]
     },
     "execution_count": 451,
     "metadata": {},
     "output_type": "execute_result"
    }
   ],
   "source": [
    "df['total_rech_amt_9'].describe(percentiles =[.25, .5, .70])"
   ]
  },
  {
   "cell_type": "code",
   "execution_count": 452,
   "metadata": {},
   "outputs": [
    {
     "data": {
      "text/plain": [
       "count    99999.000000\n",
       "mean       327.514615\n",
       "std        398.019701\n",
       "min          0.000000\n",
       "25%        109.000000\n",
       "50%        230.000000\n",
       "70%        378.000000\n",
       "max      35190.000000\n",
       "Name: total_rech_amt_6, dtype: float64"
      ]
     },
     "execution_count": 452,
     "metadata": {},
     "output_type": "execute_result"
    }
   ],
   "source": [
    "df['total_rech_amt_6'].describe(percentiles =[.25, .5, .70])"
   ]
  },
  {
   "cell_type": "code",
   "execution_count": 453,
   "metadata": {},
   "outputs": [
    {
     "data": {
      "text/plain": [
       "count    99999.000000\n",
       "mean       322.962970\n",
       "std        408.114237\n",
       "min          0.000000\n",
       "25%        100.000000\n",
       "50%        220.000000\n",
       "70%        370.000000\n",
       "max      40335.000000\n",
       "Name: total_rech_amt_7, dtype: float64"
      ]
     },
     "execution_count": 453,
     "metadata": {},
     "output_type": "execute_result"
    }
   ],
   "source": [
    "df['total_rech_amt_7'].describe(percentiles =[.25, .5, .70])"
   ]
  },
  {
   "cell_type": "code",
   "execution_count": 454,
   "metadata": {
    "scrolled": true
   },
   "outputs": [],
   "source": [
    "# filtered_df = df[(df.total_rech_amt_6 >= 378) & (df.total_rech_amt_7 >= 370)]\n",
    "\n",
    "# filtered_df.info()"
   ]
  },
  {
   "cell_type": "code",
   "execution_count": 455,
   "metadata": {},
   "outputs": [
    {
     "data": {
      "text/plain": [
       "count    99999.000000\n",
       "mean       650.477585\n",
       "std        741.666932\n",
       "min          0.000000\n",
       "25%        230.000000\n",
       "50%        458.000000\n",
       "70%        737.000000\n",
       "max      75525.000000\n",
       "dtype: float64"
      ]
     },
     "execution_count": 455,
     "metadata": {},
     "output_type": "execute_result"
    }
   ],
   "source": [
    "df_6_and_7 = df['total_rech_amt_6'] + df['total_rech_amt_7']\n",
    "\n",
    "df_6_and_7.describe(percentiles =[.25, .5, .70])"
   ]
  },
  {
   "cell_type": "code",
   "execution_count": 456,
   "metadata": {},
   "outputs": [
    {
     "name": "stdout",
     "output_type": "stream",
     "text": [
      "<class 'pandas.core.frame.DataFrame'>\n",
      "Int64Index: 29979 entries, 7 to 99997\n",
      "Columns: 226 entries, mobile_number to sep_vbc_3g\n",
      "dtypes: float64(179), int64(35), object(12)\n",
      "memory usage: 51.9+ MB\n"
     ]
    }
   ],
   "source": [
    "filtered_df = df[(df.total_rech_amt_6 + df.total_rech_amt_7 > 737)]\n",
    "\n",
    "filtered_df.info()"
   ]
  },
  {
   "cell_type": "code",
   "execution_count": 457,
   "metadata": {},
   "outputs": [
    {
     "data": {
      "text/plain": [
       "29979"
      ]
     },
     "execution_count": 457,
     "metadata": {},
     "output_type": "execute_result"
    }
   ],
   "source": [
    "len(filtered_df['total_ic_mou_9'].notna())"
   ]
  },
  {
   "cell_type": "code",
   "execution_count": 458,
   "metadata": {},
   "outputs": [
    {
     "data": {
      "text/plain": [
       "29979"
      ]
     },
     "execution_count": 458,
     "metadata": {},
     "output_type": "execute_result"
    }
   ],
   "source": [
    "len(filtered_df['total_og_mou_9'].notna())"
   ]
  },
  {
   "cell_type": "code",
   "execution_count": 459,
   "metadata": {},
   "outputs": [
    {
     "data": {
      "text/plain": [
       "29979"
      ]
     },
     "execution_count": 459,
     "metadata": {},
     "output_type": "execute_result"
    }
   ],
   "source": [
    "len(filtered_df['vol_2g_mb_9'].notna())"
   ]
  },
  {
   "cell_type": "code",
   "execution_count": 460,
   "metadata": {},
   "outputs": [
    {
     "data": {
      "text/plain": [
       "29979"
      ]
     },
     "execution_count": 460,
     "metadata": {},
     "output_type": "execute_result"
    }
   ],
   "source": [
    "len(filtered_df['vol_3g_mb_9'].notna())"
   ]
  },
  {
   "cell_type": "code",
   "execution_count": 461,
   "metadata": {
    "scrolled": true
   },
   "outputs": [
    {
     "name": "stderr",
     "output_type": "stream",
     "text": [
      "D:\\Software\\Anaconda\\lib\\site-packages\\ipykernel_launcher.py:3: SettingWithCopyWarning: \n",
      "A value is trying to be set on a copy of a slice from a DataFrame.\n",
      "Try using .loc[row_indexer,col_indexer] = value instead\n",
      "\n",
      "See the caveats in the documentation: http://pandas.pydata.org/pandas-docs/stable/indexing.html#indexing-view-versus-copy\n",
      "  This is separate from the ipykernel package so we can avoid doing imports until\n"
     ]
    }
   ],
   "source": [
    "filtered_df['churn'] = filtered_df.apply(\n",
    "    lambda row : \n",
    "        1 if row['total_ic_mou_9'] + row['total_og_mou_9'] + row['vol_2g_mb_9'] + row['vol_3g_mb_9'] > 0 else 0, axis=1\n",
    ")"
   ]
  },
  {
   "cell_type": "code",
   "execution_count": 462,
   "metadata": {},
   "outputs": [
    {
     "data": {
      "text/html": [
       "<div>\n",
       "<style scoped>\n",
       "    .dataframe tbody tr th:only-of-type {\n",
       "        vertical-align: middle;\n",
       "    }\n",
       "\n",
       "    .dataframe tbody tr th {\n",
       "        vertical-align: top;\n",
       "    }\n",
       "\n",
       "    .dataframe thead th {\n",
       "        text-align: right;\n",
       "    }\n",
       "</style>\n",
       "<table border=\"1\" class=\"dataframe\">\n",
       "  <thead>\n",
       "    <tr style=\"text-align: right;\">\n",
       "      <th></th>\n",
       "      <th>total_ic_mou_9</th>\n",
       "      <th>total_og_mou_9</th>\n",
       "      <th>vol_2g_mb_9</th>\n",
       "      <th>vol_3g_mb_9</th>\n",
       "    </tr>\n",
       "  </thead>\n",
       "  <tbody>\n",
       "    <tr>\n",
       "      <th>7</th>\n",
       "      <td>0.0</td>\n",
       "      <td>0.0</td>\n",
       "      <td>0.0</td>\n",
       "      <td>0.0</td>\n",
       "    </tr>\n",
       "    <tr>\n",
       "      <th>97</th>\n",
       "      <td>0.0</td>\n",
       "      <td>0.0</td>\n",
       "      <td>0.0</td>\n",
       "      <td>0.0</td>\n",
       "    </tr>\n",
       "    <tr>\n",
       "      <th>111</th>\n",
       "      <td>0.0</td>\n",
       "      <td>0.0</td>\n",
       "      <td>0.0</td>\n",
       "      <td>0.0</td>\n",
       "    </tr>\n",
       "    <tr>\n",
       "      <th>143</th>\n",
       "      <td>0.0</td>\n",
       "      <td>0.0</td>\n",
       "      <td>0.0</td>\n",
       "      <td>0.0</td>\n",
       "    </tr>\n",
       "    <tr>\n",
       "      <th>188</th>\n",
       "      <td>0.0</td>\n",
       "      <td>0.0</td>\n",
       "      <td>0.0</td>\n",
       "      <td>0.0</td>\n",
       "    </tr>\n",
       "  </tbody>\n",
       "</table>\n",
       "</div>"
      ],
      "text/plain": [
       "     total_ic_mou_9  total_og_mou_9  vol_2g_mb_9  vol_3g_mb_9\n",
       "7               0.0             0.0          0.0          0.0\n",
       "97              0.0             0.0          0.0          0.0\n",
       "111             0.0             0.0          0.0          0.0\n",
       "143             0.0             0.0          0.0          0.0\n",
       "188             0.0             0.0          0.0          0.0"
      ]
     },
     "execution_count": 462,
     "metadata": {},
     "output_type": "execute_result"
    }
   ],
   "source": [
    "filtered_df[filtered_df['churn'] == 0][['total_ic_mou_9', 'total_og_mou_9','vol_2g_mb_9','vol_3g_mb_9']].head()"
   ]
  },
  {
   "cell_type": "code",
   "execution_count": 463,
   "metadata": {},
   "outputs": [
    {
     "name": "stdout",
     "output_type": "stream",
     "text": [
      "<class 'pandas.core.frame.DataFrame'>\n",
      "Int64Index: 2589 entries, 7 to 99961\n",
      "Data columns (total 4 columns):\n",
      "total_ic_mou_9    2589 non-null float64\n",
      "total_og_mou_9    2589 non-null float64\n",
      "vol_2g_mb_9       2589 non-null float64\n",
      "vol_3g_mb_9       2589 non-null float64\n",
      "dtypes: float64(4)\n",
      "memory usage: 101.1 KB\n"
     ]
    }
   ],
   "source": [
    "filtered_df[filtered_df['churn'] == 0][['total_ic_mou_9', 'total_og_mou_9','vol_2g_mb_9','vol_3g_mb_9']].info()"
   ]
  },
  {
   "cell_type": "code",
   "execution_count": 464,
   "metadata": {},
   "outputs": [
    {
     "data": {
      "text/html": [
       "<div>\n",
       "<style scoped>\n",
       "    .dataframe tbody tr th:only-of-type {\n",
       "        vertical-align: middle;\n",
       "    }\n",
       "\n",
       "    .dataframe tbody tr th {\n",
       "        vertical-align: top;\n",
       "    }\n",
       "\n",
       "    .dataframe thead th {\n",
       "        text-align: right;\n",
       "    }\n",
       "</style>\n",
       "<table border=\"1\" class=\"dataframe\">\n",
       "  <thead>\n",
       "    <tr style=\"text-align: right;\">\n",
       "      <th></th>\n",
       "      <th>total_ic_mou_9</th>\n",
       "      <th>total_og_mou_9</th>\n",
       "      <th>vol_2g_mb_9</th>\n",
       "      <th>vol_3g_mb_9</th>\n",
       "    </tr>\n",
       "  </thead>\n",
       "  <tbody>\n",
       "    <tr>\n",
       "      <th>8</th>\n",
       "      <td>34.91</td>\n",
       "      <td>142.18</td>\n",
       "      <td>0.0</td>\n",
       "      <td>0.0</td>\n",
       "    </tr>\n",
       "    <tr>\n",
       "      <th>13</th>\n",
       "      <td>631.86</td>\n",
       "      <td>446.09</td>\n",
       "      <td>0.0</td>\n",
       "      <td>0.0</td>\n",
       "    </tr>\n",
       "    <tr>\n",
       "      <th>16</th>\n",
       "      <td>334.56</td>\n",
       "      <td>255.74</td>\n",
       "      <td>0.0</td>\n",
       "      <td>0.0</td>\n",
       "    </tr>\n",
       "    <tr>\n",
       "      <th>17</th>\n",
       "      <td>87.13</td>\n",
       "      <td>631.08</td>\n",
       "      <td>0.0</td>\n",
       "      <td>0.0</td>\n",
       "    </tr>\n",
       "    <tr>\n",
       "      <th>21</th>\n",
       "      <td>252.61</td>\n",
       "      <td>1031.53</td>\n",
       "      <td>0.0</td>\n",
       "      <td>0.0</td>\n",
       "    </tr>\n",
       "  </tbody>\n",
       "</table>\n",
       "</div>"
      ],
      "text/plain": [
       "    total_ic_mou_9  total_og_mou_9  vol_2g_mb_9  vol_3g_mb_9\n",
       "8            34.91          142.18          0.0          0.0\n",
       "13          631.86          446.09          0.0          0.0\n",
       "16          334.56          255.74          0.0          0.0\n",
       "17           87.13          631.08          0.0          0.0\n",
       "21          252.61         1031.53          0.0          0.0"
      ]
     },
     "execution_count": 464,
     "metadata": {},
     "output_type": "execute_result"
    }
   ],
   "source": [
    "filtered_df[filtered_df['churn'] == 1][['total_ic_mou_9', 'total_og_mou_9','vol_2g_mb_9','vol_3g_mb_9']].head()"
   ]
  },
  {
   "cell_type": "code",
   "execution_count": 465,
   "metadata": {},
   "outputs": [
    {
     "name": "stdout",
     "output_type": "stream",
     "text": [
      "<class 'pandas.core.frame.DataFrame'>\n",
      "Int64Index: 27390 entries, 8 to 99997\n",
      "Data columns (total 4 columns):\n",
      "total_ic_mou_9    27390 non-null float64\n",
      "total_og_mou_9    27390 non-null float64\n",
      "vol_2g_mb_9       27390 non-null float64\n",
      "vol_3g_mb_9       27390 non-null float64\n",
      "dtypes: float64(4)\n",
      "memory usage: 1.0 MB\n"
     ]
    }
   ],
   "source": [
    "filtered_df[filtered_df['churn'] == 1][['total_ic_mou_9', 'total_og_mou_9','vol_2g_mb_9','vol_3g_mb_9']].info()"
   ]
  },
  {
   "cell_type": "code",
   "execution_count": 466,
   "metadata": {},
   "outputs": [
    {
     "data": {
      "text/plain": [
       "367"
      ]
     },
     "execution_count": 466,
     "metadata": {},
     "output_type": "execute_result"
    }
   ],
   "source": [
    "len(filtered_df[(filtered_df.total_rech_num_6 > 0) & (filtered_df.total_rech_amt_6 == 0)])"
   ]
  },
  {
   "cell_type": "code",
   "execution_count": 467,
   "metadata": {},
   "outputs": [
    {
     "data": {
      "text/plain": [
       "439"
      ]
     },
     "execution_count": 467,
     "metadata": {},
     "output_type": "execute_result"
    }
   ],
   "source": [
    "len(filtered_df[(filtered_df.total_rech_num_7 > 0) & (filtered_df.total_rech_amt_7 == 0)])"
   ]
  },
  {
   "cell_type": "code",
   "execution_count": 468,
   "metadata": {},
   "outputs": [
    {
     "data": {
      "text/plain": [
       "1587"
      ]
     },
     "execution_count": 468,
     "metadata": {},
     "output_type": "execute_result"
    }
   ],
   "source": [
    "len(filtered_df[(filtered_df.total_rech_num_8 > 0) & (filtered_df.total_rech_amt_8 == 0)])"
   ]
  },
  {
   "cell_type": "code",
   "execution_count": 469,
   "metadata": {},
   "outputs": [
    {
     "data": {
      "text/plain": [
       "29979"
      ]
     },
     "execution_count": 469,
     "metadata": {},
     "output_type": "execute_result"
    }
   ],
   "source": [
    "len(filtered_df)"
   ]
  },
  {
   "cell_type": "code",
   "execution_count": 470,
   "metadata": {},
   "outputs": [
    {
     "name": "stderr",
     "output_type": "stream",
     "text": [
      "D:\\Software\\Anaconda\\lib\\site-packages\\pandas\\core\\frame.py:3697: SettingWithCopyWarning: \n",
      "A value is trying to be set on a copy of a slice from a DataFrame\n",
      "\n",
      "See the caveats in the documentation: http://pandas.pydata.org/pandas-docs/stable/indexing.html#indexing-view-versus-copy\n",
      "  errors=errors)\n"
     ]
    }
   ],
   "source": [
    "filtered_df.drop(filtered_df[(filtered_df.total_rech_num_6 > 0) & (filtered_df.total_rech_amt_6 == 0)].index, inplace=True)\n",
    "filtered_df.drop(filtered_df[(filtered_df.total_rech_num_7 > 0) & (filtered_df.total_rech_amt_7 == 0)].index, inplace=True)\n",
    "filtered_df.drop(filtered_df[(filtered_df.total_rech_num_8 > 0) & (filtered_df.total_rech_amt_8 == 0)].index, inplace=True)"
   ]
  },
  {
   "cell_type": "code",
   "execution_count": 471,
   "metadata": {},
   "outputs": [
    {
     "data": {
      "text/plain": [
       "27827"
      ]
     },
     "execution_count": 471,
     "metadata": {},
     "output_type": "execute_result"
    }
   ],
   "source": [
    "len(filtered_df)"
   ]
  },
  {
   "cell_type": "code",
   "execution_count": 472,
   "metadata": {},
   "outputs": [
    {
     "name": "stderr",
     "output_type": "stream",
     "text": [
      "D:\\Software\\Anaconda\\lib\\site-packages\\pandas\\core\\frame.py:3781: SettingWithCopyWarning: \n",
      "A value is trying to be set on a copy of a slice from a DataFrame\n",
      "\n",
      "See the caveats in the documentation: http://pandas.pydata.org/pandas-docs/stable/indexing.html#indexing-view-versus-copy\n",
      "  return super(DataFrame, self).rename(**kwargs)\n"
     ]
    }
   ],
   "source": [
    "filtered_df.rename(columns={'jun_vbc_3g' : 'vbc_3g_6', 'jul_vbc_3g' : 'vbc_3g_7', 'aug_vbc_3g' : 'vbc_3g_8', 'sep_vbc_3g' : 'vbc_3g_9'}, inplace=True)"
   ]
  },
  {
   "cell_type": "code",
   "execution_count": 473,
   "metadata": {},
   "outputs": [
    {
     "data": {
      "text/html": [
       "<div>\n",
       "<style scoped>\n",
       "    .dataframe tbody tr th:only-of-type {\n",
       "        vertical-align: middle;\n",
       "    }\n",
       "\n",
       "    .dataframe tbody tr th {\n",
       "        vertical-align: top;\n",
       "    }\n",
       "\n",
       "    .dataframe thead th {\n",
       "        text-align: right;\n",
       "    }\n",
       "</style>\n",
       "<table border=\"1\" class=\"dataframe\">\n",
       "  <thead>\n",
       "    <tr style=\"text-align: right;\">\n",
       "      <th></th>\n",
       "      <th>mobile_number</th>\n",
       "      <th>circle_id</th>\n",
       "      <th>loc_og_t2o_mou</th>\n",
       "      <th>std_og_t2o_mou</th>\n",
       "      <th>loc_ic_t2o_mou</th>\n",
       "      <th>last_date_of_month_6</th>\n",
       "      <th>last_date_of_month_7</th>\n",
       "      <th>last_date_of_month_8</th>\n",
       "      <th>last_date_of_month_9</th>\n",
       "      <th>arpu_6</th>\n",
       "      <th>...</th>\n",
       "      <th>fb_user_6</th>\n",
       "      <th>fb_user_7</th>\n",
       "      <th>fb_user_8</th>\n",
       "      <th>fb_user_9</th>\n",
       "      <th>aon</th>\n",
       "      <th>vbc_3g_8</th>\n",
       "      <th>vbc_3g_7</th>\n",
       "      <th>vbc_3g_6</th>\n",
       "      <th>vbc_3g_9</th>\n",
       "      <th>churn</th>\n",
       "    </tr>\n",
       "  </thead>\n",
       "  <tbody>\n",
       "    <tr>\n",
       "      <th>7</th>\n",
       "      <td>7000701601</td>\n",
       "      <td>109</td>\n",
       "      <td>0.0</td>\n",
       "      <td>0.0</td>\n",
       "      <td>0.0</td>\n",
       "      <td>6/30/2014</td>\n",
       "      <td>7/31/2014</td>\n",
       "      <td>8/31/2014</td>\n",
       "      <td>9/30/2014</td>\n",
       "      <td>1069.180</td>\n",
       "      <td>...</td>\n",
       "      <td>NaN</td>\n",
       "      <td>NaN</td>\n",
       "      <td>NaN</td>\n",
       "      <td>NaN</td>\n",
       "      <td>802</td>\n",
       "      <td>57.74</td>\n",
       "      <td>19.38</td>\n",
       "      <td>18.74</td>\n",
       "      <td>0.0</td>\n",
       "      <td>0</td>\n",
       "    </tr>\n",
       "    <tr>\n",
       "      <th>8</th>\n",
       "      <td>7001524846</td>\n",
       "      <td>109</td>\n",
       "      <td>0.0</td>\n",
       "      <td>0.0</td>\n",
       "      <td>0.0</td>\n",
       "      <td>6/30/2014</td>\n",
       "      <td>7/31/2014</td>\n",
       "      <td>8/31/2014</td>\n",
       "      <td>9/30/2014</td>\n",
       "      <td>378.721</td>\n",
       "      <td>...</td>\n",
       "      <td>NaN</td>\n",
       "      <td>1.0</td>\n",
       "      <td>1.0</td>\n",
       "      <td>NaN</td>\n",
       "      <td>315</td>\n",
       "      <td>21.03</td>\n",
       "      <td>910.65</td>\n",
       "      <td>122.16</td>\n",
       "      <td>0.0</td>\n",
       "      <td>1</td>\n",
       "    </tr>\n",
       "    <tr>\n",
       "      <th>13</th>\n",
       "      <td>7002191713</td>\n",
       "      <td>109</td>\n",
       "      <td>0.0</td>\n",
       "      <td>0.0</td>\n",
       "      <td>0.0</td>\n",
       "      <td>6/30/2014</td>\n",
       "      <td>7/31/2014</td>\n",
       "      <td>8/31/2014</td>\n",
       "      <td>9/30/2014</td>\n",
       "      <td>492.846</td>\n",
       "      <td>...</td>\n",
       "      <td>NaN</td>\n",
       "      <td>NaN</td>\n",
       "      <td>1.0</td>\n",
       "      <td>NaN</td>\n",
       "      <td>2607</td>\n",
       "      <td>0.00</td>\n",
       "      <td>0.00</td>\n",
       "      <td>0.00</td>\n",
       "      <td>0.0</td>\n",
       "      <td>1</td>\n",
       "    </tr>\n",
       "    <tr>\n",
       "      <th>16</th>\n",
       "      <td>7000875565</td>\n",
       "      <td>109</td>\n",
       "      <td>0.0</td>\n",
       "      <td>0.0</td>\n",
       "      <td>0.0</td>\n",
       "      <td>6/30/2014</td>\n",
       "      <td>7/31/2014</td>\n",
       "      <td>8/31/2014</td>\n",
       "      <td>9/30/2014</td>\n",
       "      <td>430.975</td>\n",
       "      <td>...</td>\n",
       "      <td>NaN</td>\n",
       "      <td>NaN</td>\n",
       "      <td>NaN</td>\n",
       "      <td>NaN</td>\n",
       "      <td>511</td>\n",
       "      <td>0.00</td>\n",
       "      <td>2.45</td>\n",
       "      <td>21.89</td>\n",
       "      <td>0.0</td>\n",
       "      <td>1</td>\n",
       "    </tr>\n",
       "    <tr>\n",
       "      <th>21</th>\n",
       "      <td>7002124215</td>\n",
       "      <td>109</td>\n",
       "      <td>0.0</td>\n",
       "      <td>0.0</td>\n",
       "      <td>0.0</td>\n",
       "      <td>6/30/2014</td>\n",
       "      <td>7/31/2014</td>\n",
       "      <td>8/31/2014</td>\n",
       "      <td>9/30/2014</td>\n",
       "      <td>514.453</td>\n",
       "      <td>...</td>\n",
       "      <td>NaN</td>\n",
       "      <td>NaN</td>\n",
       "      <td>NaN</td>\n",
       "      <td>NaN</td>\n",
       "      <td>720</td>\n",
       "      <td>0.00</td>\n",
       "      <td>0.00</td>\n",
       "      <td>0.00</td>\n",
       "      <td>0.0</td>\n",
       "      <td>1</td>\n",
       "    </tr>\n",
       "  </tbody>\n",
       "</table>\n",
       "<p>5 rows × 227 columns</p>\n",
       "</div>"
      ],
      "text/plain": [
       "    mobile_number  circle_id  loc_og_t2o_mou  std_og_t2o_mou  loc_ic_t2o_mou  \\\n",
       "7      7000701601        109             0.0             0.0             0.0   \n",
       "8      7001524846        109             0.0             0.0             0.0   \n",
       "13     7002191713        109             0.0             0.0             0.0   \n",
       "16     7000875565        109             0.0             0.0             0.0   \n",
       "21     7002124215        109             0.0             0.0             0.0   \n",
       "\n",
       "   last_date_of_month_6 last_date_of_month_7 last_date_of_month_8  \\\n",
       "7             6/30/2014            7/31/2014            8/31/2014   \n",
       "8             6/30/2014            7/31/2014            8/31/2014   \n",
       "13            6/30/2014            7/31/2014            8/31/2014   \n",
       "16            6/30/2014            7/31/2014            8/31/2014   \n",
       "21            6/30/2014            7/31/2014            8/31/2014   \n",
       "\n",
       "   last_date_of_month_9    arpu_6  ...    fb_user_6  fb_user_7  fb_user_8  \\\n",
       "7             9/30/2014  1069.180  ...          NaN        NaN        NaN   \n",
       "8             9/30/2014   378.721  ...          NaN        1.0        1.0   \n",
       "13            9/30/2014   492.846  ...          NaN        NaN        1.0   \n",
       "16            9/30/2014   430.975  ...          NaN        NaN        NaN   \n",
       "21            9/30/2014   514.453  ...          NaN        NaN        NaN   \n",
       "\n",
       "    fb_user_9   aon  vbc_3g_8  vbc_3g_7  vbc_3g_6  vbc_3g_9  churn  \n",
       "7         NaN   802     57.74     19.38     18.74       0.0      0  \n",
       "8         NaN   315     21.03    910.65    122.16       0.0      1  \n",
       "13        NaN  2607      0.00      0.00      0.00       0.0      1  \n",
       "16        NaN   511      0.00      2.45     21.89       0.0      1  \n",
       "21        NaN   720      0.00      0.00      0.00       0.0      1  \n",
       "\n",
       "[5 rows x 227 columns]"
      ]
     },
     "execution_count": 473,
     "metadata": {},
     "output_type": "execute_result"
    }
   ],
   "source": [
    "filtered_df.head()"
   ]
  },
  {
   "cell_type": "code",
   "execution_count": 474,
   "metadata": {},
   "outputs": [
    {
     "name": "stdout",
     "output_type": "stream",
     "text": [
      "<class 'pandas.core.frame.DataFrame'>\n",
      "Int64Index: 27827 entries, 7 to 99997\n",
      "Columns: 227 entries, mobile_number to churn\n",
      "dtypes: float64(179), int64(36), object(12)\n",
      "memory usage: 48.4+ MB\n"
     ]
    }
   ],
   "source": [
    "filtered_df.info()"
   ]
  },
  {
   "cell_type": "code",
   "execution_count": 475,
   "metadata": {},
   "outputs": [
    {
     "name": "stdout",
     "output_type": "stream",
     "text": [
      "<class 'pandas.core.frame.DataFrame'>\n",
      "RangeIndex: 27827 entries, 0 to 27826\n",
      "Columns: 227 entries, mobile_number to churn\n",
      "dtypes: float64(179), int64(36), object(12)\n",
      "memory usage: 48.2+ MB\n"
     ]
    }
   ],
   "source": [
    "filtered_df.reset_index(inplace=True, drop=True)\n",
    "filtered_df.info()"
   ]
  },
  {
   "cell_type": "code",
   "execution_count": 476,
   "metadata": {
    "scrolled": false
   },
   "outputs": [
    {
     "data": {
      "text/html": [
       "<div>\n",
       "<style scoped>\n",
       "    .dataframe tbody tr th:only-of-type {\n",
       "        vertical-align: middle;\n",
       "    }\n",
       "\n",
       "    .dataframe tbody tr th {\n",
       "        vertical-align: top;\n",
       "    }\n",
       "\n",
       "    .dataframe thead th {\n",
       "        text-align: right;\n",
       "    }\n",
       "</style>\n",
       "<table border=\"1\" class=\"dataframe\">\n",
       "  <thead>\n",
       "    <tr style=\"text-align: right;\">\n",
       "      <th></th>\n",
       "      <th>mobile_number</th>\n",
       "      <th>circle_id</th>\n",
       "      <th>loc_og_t2o_mou</th>\n",
       "      <th>std_og_t2o_mou</th>\n",
       "      <th>loc_ic_t2o_mou</th>\n",
       "      <th>last_date_of_month_6</th>\n",
       "      <th>last_date_of_month_7</th>\n",
       "      <th>last_date_of_month_8</th>\n",
       "      <th>last_date_of_month_9</th>\n",
       "      <th>arpu_6</th>\n",
       "      <th>...</th>\n",
       "      <th>fb_user_6</th>\n",
       "      <th>fb_user_7</th>\n",
       "      <th>fb_user_8</th>\n",
       "      <th>fb_user_9</th>\n",
       "      <th>aon</th>\n",
       "      <th>vbc_3g_8</th>\n",
       "      <th>vbc_3g_7</th>\n",
       "      <th>vbc_3g_6</th>\n",
       "      <th>vbc_3g_9</th>\n",
       "      <th>churn</th>\n",
       "    </tr>\n",
       "  </thead>\n",
       "  <tbody>\n",
       "    <tr>\n",
       "      <th>0</th>\n",
       "      <td>7000701601</td>\n",
       "      <td>109</td>\n",
       "      <td>0.0</td>\n",
       "      <td>0.0</td>\n",
       "      <td>0.0</td>\n",
       "      <td>6/30/2014</td>\n",
       "      <td>7/31/2014</td>\n",
       "      <td>8/31/2014</td>\n",
       "      <td>9/30/2014</td>\n",
       "      <td>1069.180</td>\n",
       "      <td>...</td>\n",
       "      <td>NaN</td>\n",
       "      <td>NaN</td>\n",
       "      <td>NaN</td>\n",
       "      <td>NaN</td>\n",
       "      <td>802</td>\n",
       "      <td>57.74</td>\n",
       "      <td>19.38</td>\n",
       "      <td>18.74</td>\n",
       "      <td>0.0</td>\n",
       "      <td>0</td>\n",
       "    </tr>\n",
       "    <tr>\n",
       "      <th>1</th>\n",
       "      <td>7001524846</td>\n",
       "      <td>109</td>\n",
       "      <td>0.0</td>\n",
       "      <td>0.0</td>\n",
       "      <td>0.0</td>\n",
       "      <td>6/30/2014</td>\n",
       "      <td>7/31/2014</td>\n",
       "      <td>8/31/2014</td>\n",
       "      <td>9/30/2014</td>\n",
       "      <td>378.721</td>\n",
       "      <td>...</td>\n",
       "      <td>NaN</td>\n",
       "      <td>1.0</td>\n",
       "      <td>1.0</td>\n",
       "      <td>NaN</td>\n",
       "      <td>315</td>\n",
       "      <td>21.03</td>\n",
       "      <td>910.65</td>\n",
       "      <td>122.16</td>\n",
       "      <td>0.0</td>\n",
       "      <td>1</td>\n",
       "    </tr>\n",
       "    <tr>\n",
       "      <th>2</th>\n",
       "      <td>7002191713</td>\n",
       "      <td>109</td>\n",
       "      <td>0.0</td>\n",
       "      <td>0.0</td>\n",
       "      <td>0.0</td>\n",
       "      <td>6/30/2014</td>\n",
       "      <td>7/31/2014</td>\n",
       "      <td>8/31/2014</td>\n",
       "      <td>9/30/2014</td>\n",
       "      <td>492.846</td>\n",
       "      <td>...</td>\n",
       "      <td>NaN</td>\n",
       "      <td>NaN</td>\n",
       "      <td>1.0</td>\n",
       "      <td>NaN</td>\n",
       "      <td>2607</td>\n",
       "      <td>0.00</td>\n",
       "      <td>0.00</td>\n",
       "      <td>0.00</td>\n",
       "      <td>0.0</td>\n",
       "      <td>1</td>\n",
       "    </tr>\n",
       "    <tr>\n",
       "      <th>3</th>\n",
       "      <td>7000875565</td>\n",
       "      <td>109</td>\n",
       "      <td>0.0</td>\n",
       "      <td>0.0</td>\n",
       "      <td>0.0</td>\n",
       "      <td>6/30/2014</td>\n",
       "      <td>7/31/2014</td>\n",
       "      <td>8/31/2014</td>\n",
       "      <td>9/30/2014</td>\n",
       "      <td>430.975</td>\n",
       "      <td>...</td>\n",
       "      <td>NaN</td>\n",
       "      <td>NaN</td>\n",
       "      <td>NaN</td>\n",
       "      <td>NaN</td>\n",
       "      <td>511</td>\n",
       "      <td>0.00</td>\n",
       "      <td>2.45</td>\n",
       "      <td>21.89</td>\n",
       "      <td>0.0</td>\n",
       "      <td>1</td>\n",
       "    </tr>\n",
       "    <tr>\n",
       "      <th>4</th>\n",
       "      <td>7002124215</td>\n",
       "      <td>109</td>\n",
       "      <td>0.0</td>\n",
       "      <td>0.0</td>\n",
       "      <td>0.0</td>\n",
       "      <td>6/30/2014</td>\n",
       "      <td>7/31/2014</td>\n",
       "      <td>8/31/2014</td>\n",
       "      <td>9/30/2014</td>\n",
       "      <td>514.453</td>\n",
       "      <td>...</td>\n",
       "      <td>NaN</td>\n",
       "      <td>NaN</td>\n",
       "      <td>NaN</td>\n",
       "      <td>NaN</td>\n",
       "      <td>720</td>\n",
       "      <td>0.00</td>\n",
       "      <td>0.00</td>\n",
       "      <td>0.00</td>\n",
       "      <td>0.0</td>\n",
       "      <td>1</td>\n",
       "    </tr>\n",
       "  </tbody>\n",
       "</table>\n",
       "<p>5 rows × 227 columns</p>\n",
       "</div>"
      ],
      "text/plain": [
       "   mobile_number  circle_id  loc_og_t2o_mou  std_og_t2o_mou  loc_ic_t2o_mou  \\\n",
       "0     7000701601        109             0.0             0.0             0.0   \n",
       "1     7001524846        109             0.0             0.0             0.0   \n",
       "2     7002191713        109             0.0             0.0             0.0   \n",
       "3     7000875565        109             0.0             0.0             0.0   \n",
       "4     7002124215        109             0.0             0.0             0.0   \n",
       "\n",
       "  last_date_of_month_6 last_date_of_month_7 last_date_of_month_8  \\\n",
       "0            6/30/2014            7/31/2014            8/31/2014   \n",
       "1            6/30/2014            7/31/2014            8/31/2014   \n",
       "2            6/30/2014            7/31/2014            8/31/2014   \n",
       "3            6/30/2014            7/31/2014            8/31/2014   \n",
       "4            6/30/2014            7/31/2014            8/31/2014   \n",
       "\n",
       "  last_date_of_month_9    arpu_6  ...    fb_user_6  fb_user_7  fb_user_8  \\\n",
       "0            9/30/2014  1069.180  ...          NaN        NaN        NaN   \n",
       "1            9/30/2014   378.721  ...          NaN        1.0        1.0   \n",
       "2            9/30/2014   492.846  ...          NaN        NaN        1.0   \n",
       "3            9/30/2014   430.975  ...          NaN        NaN        NaN   \n",
       "4            9/30/2014   514.453  ...          NaN        NaN        NaN   \n",
       "\n",
       "   fb_user_9   aon  vbc_3g_8  vbc_3g_7  vbc_3g_6  vbc_3g_9  churn  \n",
       "0        NaN   802     57.74     19.38     18.74       0.0      0  \n",
       "1        NaN   315     21.03    910.65    122.16       0.0      1  \n",
       "2        NaN  2607      0.00      0.00      0.00       0.0      1  \n",
       "3        NaN   511      0.00      2.45     21.89       0.0      1  \n",
       "4        NaN   720      0.00      0.00      0.00       0.0      1  \n",
       "\n",
       "[5 rows x 227 columns]"
      ]
     },
     "execution_count": 476,
     "metadata": {},
     "output_type": "execute_result"
    }
   ],
   "source": [
    "filtered_df.head()"
   ]
  },
  {
   "cell_type": "code",
   "execution_count": 477,
   "metadata": {},
   "outputs": [
    {
     "data": {
      "text/plain": [
       "mobile_number               0\n",
       "circle_id                   0\n",
       "loc_og_t2o_mou             87\n",
       "std_og_t2o_mou             87\n",
       "loc_ic_t2o_mou             87\n",
       "last_date_of_month_6        0\n",
       "last_date_of_month_7       31\n",
       "last_date_of_month_8      154\n",
       "last_date_of_month_9      347\n",
       "arpu_6                      0\n",
       "arpu_7                      0\n",
       "arpu_8                      0\n",
       "arpu_9                      0\n",
       "onnet_mou_6               158\n",
       "onnet_mou_7               152\n",
       "onnet_mou_8               354\n",
       "onnet_mou_9              1025\n",
       "offnet_mou_6              158\n",
       "offnet_mou_7              152\n",
       "offnet_mou_8              354\n",
       "offnet_mou_9             1025\n",
       "roam_ic_mou_6             158\n",
       "roam_ic_mou_7             152\n",
       "roam_ic_mou_8             354\n",
       "roam_ic_mou_9            1025\n",
       "roam_og_mou_6             158\n",
       "roam_og_mou_7             152\n",
       "roam_og_mou_8             354\n",
       "roam_og_mou_9            1025\n",
       "loc_og_t2t_mou_6          158\n",
       "                        ...  \n",
       "night_pck_user_6        16959\n",
       "night_pck_user_7        16613\n",
       "night_pck_user_8        16333\n",
       "night_pck_user_9        16704\n",
       "monthly_2g_6                0\n",
       "monthly_2g_7                0\n",
       "monthly_2g_8                0\n",
       "monthly_2g_9                0\n",
       "sachet_2g_6                 0\n",
       "sachet_2g_7                 0\n",
       "sachet_2g_8                 0\n",
       "sachet_2g_9                 0\n",
       "monthly_3g_6                0\n",
       "monthly_3g_7                0\n",
       "monthly_3g_8                0\n",
       "monthly_3g_9                0\n",
       "sachet_3g_6                 0\n",
       "sachet_3g_7                 0\n",
       "sachet_3g_8                 0\n",
       "sachet_3g_9                 0\n",
       "fb_user_6               16959\n",
       "fb_user_7               16613\n",
       "fb_user_8               16333\n",
       "fb_user_9               16704\n",
       "aon                         0\n",
       "vbc_3g_8                    0\n",
       "vbc_3g_7                    0\n",
       "vbc_3g_6                    0\n",
       "vbc_3g_9                    0\n",
       "churn                       0\n",
       "Length: 227, dtype: int64"
      ]
     },
     "execution_count": 477,
     "metadata": {},
     "output_type": "execute_result"
    }
   ],
   "source": [
    "# len(filtered_df.notna())\n",
    "filtered_df.isna().sum()"
   ]
  },
  {
   "cell_type": "code",
   "execution_count": 478,
   "metadata": {},
   "outputs": [],
   "source": [
    "filtered_df = filtered_df.fillna(0)"
   ]
  },
  {
   "cell_type": "code",
   "execution_count": 479,
   "metadata": {
    "scrolled": true
   },
   "outputs": [
    {
     "data": {
      "text/plain": [
       "27827"
      ]
     },
     "execution_count": 479,
     "metadata": {},
     "output_type": "execute_result"
    }
   ],
   "source": [
    "len(filtered_df.notna())"
   ]
  },
  {
   "cell_type": "code",
   "execution_count": 480,
   "metadata": {
    "scrolled": true
   },
   "outputs": [
    {
     "data": {
      "text/plain": [
       "mobile_number           0\n",
       "circle_id               0\n",
       "loc_og_t2o_mou          0\n",
       "std_og_t2o_mou          0\n",
       "loc_ic_t2o_mou          0\n",
       "last_date_of_month_6    0\n",
       "last_date_of_month_7    0\n",
       "last_date_of_month_8    0\n",
       "last_date_of_month_9    0\n",
       "arpu_6                  0\n",
       "arpu_7                  0\n",
       "arpu_8                  0\n",
       "arpu_9                  0\n",
       "onnet_mou_6             0\n",
       "onnet_mou_7             0\n",
       "onnet_mou_8             0\n",
       "onnet_mou_9             0\n",
       "offnet_mou_6            0\n",
       "offnet_mou_7            0\n",
       "offnet_mou_8            0\n",
       "offnet_mou_9            0\n",
       "roam_ic_mou_6           0\n",
       "roam_ic_mou_7           0\n",
       "roam_ic_mou_8           0\n",
       "roam_ic_mou_9           0\n",
       "roam_og_mou_6           0\n",
       "roam_og_mou_7           0\n",
       "roam_og_mou_8           0\n",
       "roam_og_mou_9           0\n",
       "loc_og_t2t_mou_6        0\n",
       "                       ..\n",
       "night_pck_user_6        0\n",
       "night_pck_user_7        0\n",
       "night_pck_user_8        0\n",
       "night_pck_user_9        0\n",
       "monthly_2g_6            0\n",
       "monthly_2g_7            0\n",
       "monthly_2g_8            0\n",
       "monthly_2g_9            0\n",
       "sachet_2g_6             0\n",
       "sachet_2g_7             0\n",
       "sachet_2g_8             0\n",
       "sachet_2g_9             0\n",
       "monthly_3g_6            0\n",
       "monthly_3g_7            0\n",
       "monthly_3g_8            0\n",
       "monthly_3g_9            0\n",
       "sachet_3g_6             0\n",
       "sachet_3g_7             0\n",
       "sachet_3g_8             0\n",
       "sachet_3g_9             0\n",
       "fb_user_6               0\n",
       "fb_user_7               0\n",
       "fb_user_8               0\n",
       "fb_user_9               0\n",
       "aon                     0\n",
       "vbc_3g_8                0\n",
       "vbc_3g_7                0\n",
       "vbc_3g_6                0\n",
       "vbc_3g_9                0\n",
       "churn                   0\n",
       "Length: 227, dtype: int64"
      ]
     },
     "execution_count": 480,
     "metadata": {},
     "output_type": "execute_result"
    }
   ],
   "source": [
    "filtered_df.isna().sum()"
   ]
  },
  {
   "cell_type": "code",
   "execution_count": 481,
   "metadata": {
    "scrolled": true
   },
   "outputs": [
    {
     "data": {
      "text/plain": [
       "array(['arpu_6', 'arpu_7', 'arpu_8', 'arpu_9', 'onnet_mou_6',\n",
       "       'onnet_mou_7', 'onnet_mou_8', 'onnet_mou_9', 'offnet_mou_6',\n",
       "       'offnet_mou_7', 'offnet_mou_8', 'offnet_mou_9', 'roam_ic_mou_6',\n",
       "       'roam_ic_mou_7', 'roam_ic_mou_8', 'roam_ic_mou_9', 'roam_og_mou_6',\n",
       "       'roam_og_mou_7', 'roam_og_mou_8', 'roam_og_mou_9',\n",
       "       'loc_og_t2t_mou_6', 'loc_og_t2t_mou_7', 'loc_og_t2t_mou_8',\n",
       "       'loc_og_t2t_mou_9', 'loc_og_t2m_mou_6', 'loc_og_t2m_mou_7',\n",
       "       'loc_og_t2m_mou_8', 'loc_og_t2m_mou_9', 'loc_og_t2f_mou_6',\n",
       "       'loc_og_t2f_mou_7', 'loc_og_t2f_mou_8', 'loc_og_t2f_mou_9',\n",
       "       'loc_og_t2c_mou_6', 'loc_og_t2c_mou_7', 'loc_og_t2c_mou_8',\n",
       "       'loc_og_t2c_mou_9', 'loc_og_mou_6', 'loc_og_mou_7', 'loc_og_mou_8',\n",
       "       'loc_og_mou_9', 'std_og_t2t_mou_6', 'std_og_t2t_mou_7',\n",
       "       'std_og_t2t_mou_8', 'std_og_t2t_mou_9', 'std_og_t2m_mou_6',\n",
       "       'std_og_t2m_mou_7', 'std_og_t2m_mou_8', 'std_og_t2m_mou_9',\n",
       "       'std_og_t2f_mou_6', 'std_og_t2f_mou_7', 'std_og_t2f_mou_8',\n",
       "       'std_og_t2f_mou_9', 'std_og_t2c_mou_6', 'std_og_t2c_mou_7',\n",
       "       'std_og_t2c_mou_8', 'std_og_t2c_mou_9', 'std_og_mou_6',\n",
       "       'std_og_mou_7', 'std_og_mou_8', 'std_og_mou_9', 'isd_og_mou_6',\n",
       "       'isd_og_mou_7', 'isd_og_mou_8', 'isd_og_mou_9', 'spl_og_mou_6',\n",
       "       'spl_og_mou_7', 'spl_og_mou_8', 'spl_og_mou_9', 'og_others_6',\n",
       "       'og_others_7', 'og_others_8', 'og_others_9', 'total_og_mou_6',\n",
       "       'total_og_mou_7', 'total_og_mou_8', 'total_og_mou_9',\n",
       "       'loc_ic_t2t_mou_6', 'loc_ic_t2t_mou_7', 'loc_ic_t2t_mou_8',\n",
       "       'loc_ic_t2t_mou_9', 'loc_ic_t2m_mou_6', 'loc_ic_t2m_mou_7',\n",
       "       'loc_ic_t2m_mou_8', 'loc_ic_t2m_mou_9', 'loc_ic_t2f_mou_6',\n",
       "       'loc_ic_t2f_mou_7', 'loc_ic_t2f_mou_8', 'loc_ic_t2f_mou_9',\n",
       "       'loc_ic_mou_6', 'loc_ic_mou_7', 'loc_ic_mou_8', 'loc_ic_mou_9',\n",
       "       'std_ic_t2t_mou_6', 'std_ic_t2t_mou_7', 'std_ic_t2t_mou_8',\n",
       "       'std_ic_t2t_mou_9', 'std_ic_t2m_mou_6', 'std_ic_t2m_mou_7',\n",
       "       'std_ic_t2m_mou_8', 'std_ic_t2m_mou_9', 'std_ic_t2f_mou_6',\n",
       "       'std_ic_t2f_mou_7', 'std_ic_t2f_mou_8', 'std_ic_t2f_mou_9',\n",
       "       'std_ic_t2o_mou_6', 'std_ic_t2o_mou_7', 'std_ic_t2o_mou_8',\n",
       "       'std_ic_t2o_mou_9', 'std_ic_mou_6', 'std_ic_mou_7', 'std_ic_mou_8',\n",
       "       'std_ic_mou_9', 'total_ic_mou_6', 'total_ic_mou_7',\n",
       "       'total_ic_mou_8', 'total_ic_mou_9', 'spl_ic_mou_6', 'spl_ic_mou_7',\n",
       "       'spl_ic_mou_8', 'spl_ic_mou_9', 'isd_ic_mou_6', 'isd_ic_mou_7',\n",
       "       'isd_ic_mou_8', 'isd_ic_mou_9', 'ic_others_6', 'ic_others_7',\n",
       "       'ic_others_8', 'ic_others_9', 'total_rech_num_6',\n",
       "       'total_rech_num_7', 'total_rech_num_8', 'total_rech_num_9',\n",
       "       'total_rech_amt_6', 'total_rech_amt_7', 'total_rech_amt_8',\n",
       "       'total_rech_amt_9', 'max_rech_amt_6', 'max_rech_amt_7',\n",
       "       'max_rech_amt_8', 'max_rech_amt_9', 'last_day_rch_amt_6',\n",
       "       'last_day_rch_amt_7', 'last_day_rch_amt_8', 'last_day_rch_amt_9',\n",
       "       'total_rech_data_6', 'total_rech_data_7', 'total_rech_data_8',\n",
       "       'total_rech_data_9', 'max_rech_data_6', 'max_rech_data_7',\n",
       "       'max_rech_data_8', 'max_rech_data_9', 'count_rech_2g_6',\n",
       "       'count_rech_2g_7', 'count_rech_2g_8', 'count_rech_2g_9',\n",
       "       'count_rech_3g_6', 'count_rech_3g_7', 'count_rech_3g_8',\n",
       "       'count_rech_3g_9', 'av_rech_amt_data_6', 'av_rech_amt_data_7',\n",
       "       'av_rech_amt_data_8', 'av_rech_amt_data_9', 'vol_2g_mb_6',\n",
       "       'vol_2g_mb_7', 'vol_2g_mb_8', 'vol_2g_mb_9', 'vol_3g_mb_6',\n",
       "       'vol_3g_mb_7', 'vol_3g_mb_8', 'vol_3g_mb_9', 'arpu_3g_6',\n",
       "       'arpu_3g_7', 'arpu_3g_8', 'arpu_3g_9', 'arpu_2g_6', 'arpu_2g_7',\n",
       "       'arpu_2g_8', 'arpu_2g_9', 'night_pck_user_6', 'night_pck_user_7',\n",
       "       'night_pck_user_8', 'night_pck_user_9', 'monthly_2g_6',\n",
       "       'monthly_2g_7', 'monthly_2g_8', 'monthly_2g_9', 'sachet_2g_6',\n",
       "       'sachet_2g_7', 'sachet_2g_8', 'sachet_2g_9', 'monthly_3g_6',\n",
       "       'monthly_3g_7', 'monthly_3g_8', 'monthly_3g_9', 'sachet_3g_6',\n",
       "       'sachet_3g_7', 'sachet_3g_8', 'sachet_3g_9', 'fb_user_6',\n",
       "       'fb_user_7', 'fb_user_8', 'fb_user_9', 'aon', 'vbc_3g_8',\n",
       "       'vbc_3g_7', 'vbc_3g_6', 'vbc_3g_9', 'churn'], dtype=object)"
      ]
     },
     "execution_count": 481,
     "metadata": {},
     "output_type": "execute_result"
    }
   ],
   "source": [
    "filtered_df.drop(filtered_df.columns[157:161], axis=1 , inplace=True)\n",
    "filtered_df.drop(filtered_df.columns[149:153], axis=1 , inplace=True)\n",
    "filtered_df.drop(filtered_df.columns[:9], axis=1, inplace=True)\n",
    "\n",
    "filtered_df.columns.values"
   ]
  },
  {
   "cell_type": "code",
   "execution_count": 482,
   "metadata": {},
   "outputs": [],
   "source": [
    "# new_df = filtered_df.drop(filtered_df.columns[157:161], axis=1 )\n",
    "# new_df.columns.values"
   ]
  },
  {
   "cell_type": "code",
   "execution_count": 483,
   "metadata": {},
   "outputs": [],
   "source": [
    "# new_df = filtered_df.drop(filtered_df.columns[149:153], axis=1 )"
   ]
  },
  {
   "cell_type": "code",
   "execution_count": 484,
   "metadata": {
    "scrolled": true
   },
   "outputs": [],
   "source": [
    "# new_df.columns.values"
   ]
  },
  {
   "cell_type": "code",
   "execution_count": null,
   "metadata": {},
   "outputs": [],
   "source": []
  },
  {
   "cell_type": "code",
   "execution_count": null,
   "metadata": {},
   "outputs": [],
   "source": []
  }
 ],
 "metadata": {
  "kernelspec": {
   "display_name": "Python 3",
   "language": "python",
   "name": "python3"
  },
  "language_info": {
   "codemirror_mode": {
    "name": "ipython",
    "version": 3
   },
   "file_extension": ".py",
   "mimetype": "text/x-python",
   "name": "python",
   "nbconvert_exporter": "python",
   "pygments_lexer": "ipython3",
   "version": "3.7.1"
  }
 },
 "nbformat": 4,
 "nbformat_minor": 2
}
